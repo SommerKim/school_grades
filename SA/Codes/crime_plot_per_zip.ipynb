{
 "cells": [
  {
   "cell_type": "code",
   "execution_count": 1,
   "metadata": {},
   "outputs": [],
   "source": [
    "#dependencies\n",
    "import pandas as pd\n",
    "import numpy as np\n",
    "import matplotlib.pyplot as plt\n",
    "import datetime\n",
    "import gmaps.datasets\n",
    "from scipy.stats import linregress\n",
    "from scipy import stats\n",
    "import os"
   ]
  },
  {
   "cell_type": "code",
   "execution_count": 2,
   "metadata": {},
   "outputs": [],
   "source": [
    "crime_path13 = os.path.join (\"../Resources/cd_33613.csv\")\n",
    "crime_data13 = pd.read_csv(crime_path13)\n",
    "crime_path56 = os.path.join (\"../Resources/cd_33556.csv\")\n",
    "crime_data56 = pd.read_csv(crime_path56)\n",
    "crime_pathcomb = os.path.join (\"../Resources/combined_crime_data.csv\")\n",
    "crime_datacomb = pd.read_csv(crime_pathcomb)"
   ]
  },
  {
   "cell_type": "code",
   "execution_count": 3,
   "metadata": {
    "scrolled": true
   },
   "outputs": [
    {
     "data": {
      "text/html": [
       "<div>\n",
       "<style scoped>\n",
       "    .dataframe tbody tr th:only-of-type {\n",
       "        vertical-align: middle;\n",
       "    }\n",
       "\n",
       "    .dataframe tbody tr th {\n",
       "        vertical-align: top;\n",
       "    }\n",
       "\n",
       "    .dataframe thead th {\n",
       "        text-align: right;\n",
       "    }\n",
       "</style>\n",
       "<table border=\"1\" class=\"dataframe\">\n",
       "  <thead>\n",
       "    <tr style=\"text-align: right;\">\n",
       "      <th></th>\n",
       "      <th>Unnamed: 0</th>\n",
       "      <th>Reported Date</th>\n",
       "      <th>Case Number</th>\n",
       "      <th>Crime Type</th>\n",
       "      <th>Crime Type Extension</th>\n",
       "      <th>Address</th>\n",
       "      <th>zip</th>\n",
       "      <th>year</th>\n",
       "    </tr>\n",
       "  </thead>\n",
       "  <tbody>\n",
       "    <tr>\n",
       "      <th>0</th>\n",
       "      <td>0</td>\n",
       "      <td>1/1/2016</td>\n",
       "      <td>2016-281</td>\n",
       "      <td>DUI</td>\n",
       "      <td>DUI (DRIVING UNDER INFLUENCE)</td>\n",
       "      <td>FLORIDA AV N / WINDWOOD OAKS DR</td>\n",
       "      <td>33613</td>\n",
       "      <td>2016</td>\n",
       "    </tr>\n",
       "    <tr>\n",
       "      <th>1</th>\n",
       "      <td>6</td>\n",
       "      <td>1/1/2016</td>\n",
       "      <td>2016-60</td>\n",
       "      <td>BATTERY</td>\n",
       "      <td>BATTERY-SIMPLE</td>\n",
       "      <td>13600 BLOCK GRAGSTON CR</td>\n",
       "      <td>33613</td>\n",
       "      <td>2016</td>\n",
       "    </tr>\n",
       "    <tr>\n",
       "      <th>2</th>\n",
       "      <td>7</td>\n",
       "      <td>1/2/2016</td>\n",
       "      <td>2016-2990</td>\n",
       "      <td>BURGLARY</td>\n",
       "      <td>THEFT FROM A VEHICLE</td>\n",
       "      <td>4000 BLOCK DREAM OAK PL</td>\n",
       "      <td>33613</td>\n",
       "      <td>2016</td>\n",
       "    </tr>\n",
       "    <tr>\n",
       "      <th>3</th>\n",
       "      <td>9</td>\n",
       "      <td>1/2/2016</td>\n",
       "      <td>2016-3345</td>\n",
       "      <td>THEFT</td>\n",
       "      <td>THEFT FROM A BUILDING</td>\n",
       "      <td>13700 BLOCK 42ND ST N</td>\n",
       "      <td>33613</td>\n",
       "      <td>2016</td>\n",
       "    </tr>\n",
       "    <tr>\n",
       "      <th>4</th>\n",
       "      <td>10</td>\n",
       "      <td>1/2/2016</td>\n",
       "      <td>2016-3552</td>\n",
       "      <td>BATTERY</td>\n",
       "      <td>BATTERY-SIMPLE</td>\n",
       "      <td>14200 BLOCK NEBRASKA AV N</td>\n",
       "      <td>33613</td>\n",
       "      <td>2016</td>\n",
       "    </tr>\n",
       "  </tbody>\n",
       "</table>\n",
       "</div>"
      ],
      "text/plain": [
       "   Unnamed: 0 Reported Date            Case Number Crime Type  \\\n",
       "0           0      1/1/2016  2016-281                     DUI   \n",
       "1           6      1/1/2016  2016-60                  BATTERY   \n",
       "2           7      1/2/2016  2016-2990               BURGLARY   \n",
       "3           9      1/2/2016  2016-3345                  THEFT   \n",
       "4          10      1/2/2016  2016-3552                BATTERY   \n",
       "\n",
       "            Crime Type Extension                          Address    zip  year  \n",
       "0  DUI (DRIVING UNDER INFLUENCE)  FLORIDA AV N / WINDWOOD OAKS DR  33613  2016  \n",
       "1                 BATTERY-SIMPLE          13600 BLOCK GRAGSTON CR  33613  2016  \n",
       "2           THEFT FROM A VEHICLE          4000 BLOCK DREAM OAK PL  33613  2016  \n",
       "3          THEFT FROM A BUILDING            13700 BLOCK 42ND ST N  33613  2016  \n",
       "4                 BATTERY-SIMPLE        14200 BLOCK NEBRASKA AV N  33613  2016  "
      ]
     },
     "execution_count": 3,
     "metadata": {},
     "output_type": "execute_result"
    }
   ],
   "source": [
    "crime_data13.astype({'zip': 'int64'}, {'year': 'int64'}).dtypes\n",
    "crime_data13.head()"
   ]
  },
  {
   "cell_type": "code",
   "execution_count": 4,
   "metadata": {
    "scrolled": true
   },
   "outputs": [
    {
     "data": {
      "text/html": [
       "<div>\n",
       "<style scoped>\n",
       "    .dataframe tbody tr th:only-of-type {\n",
       "        vertical-align: middle;\n",
       "    }\n",
       "\n",
       "    .dataframe tbody tr th {\n",
       "        vertical-align: top;\n",
       "    }\n",
       "\n",
       "    .dataframe thead th {\n",
       "        text-align: right;\n",
       "    }\n",
       "</style>\n",
       "<table border=\"1\" class=\"dataframe\">\n",
       "  <thead>\n",
       "    <tr style=\"text-align: right;\">\n",
       "      <th></th>\n",
       "      <th>Unnamed: 0</th>\n",
       "      <th>Reported Date</th>\n",
       "      <th>Case Number</th>\n",
       "      <th>Crime Type</th>\n",
       "      <th>Crime Type Extension</th>\n",
       "      <th>Address</th>\n",
       "      <th>zip</th>\n",
       "      <th>year</th>\n",
       "    </tr>\n",
       "  </thead>\n",
       "  <tbody>\n",
       "    <tr>\n",
       "      <th>0</th>\n",
       "      <td>0</td>\n",
       "      <td>1/1/2016</td>\n",
       "      <td>2016-1126</td>\n",
       "      <td>BATTERY</td>\n",
       "      <td>BATTERY-SIMPLE</td>\n",
       "      <td>17900 BLOCK CRAWLEY RD</td>\n",
       "      <td>33556</td>\n",
       "      <td>2016</td>\n",
       "    </tr>\n",
       "    <tr>\n",
       "      <th>1</th>\n",
       "      <td>1</td>\n",
       "      <td>1/4/2016</td>\n",
       "      <td>2016-7193</td>\n",
       "      <td>THEFT</td>\n",
       "      <td>THEFT MOTOR VEHICLE PARTS</td>\n",
       "      <td>11900 BLOCK TARPON SPRINGS RD</td>\n",
       "      <td>33556</td>\n",
       "      <td>2016</td>\n",
       "    </tr>\n",
       "    <tr>\n",
       "      <th>2</th>\n",
       "      <td>3</td>\n",
       "      <td>1/8/2016</td>\n",
       "      <td>2016-17773</td>\n",
       "      <td>MISCHIEF</td>\n",
       "      <td>CRIMINAL MISCHIEF MISDEMEANOR</td>\n",
       "      <td>15700 BLOCK BEREA DR</td>\n",
       "      <td>33556</td>\n",
       "      <td>2016</td>\n",
       "    </tr>\n",
       "    <tr>\n",
       "      <th>3</th>\n",
       "      <td>7</td>\n",
       "      <td>1/11/2016</td>\n",
       "      <td>2016-24062</td>\n",
       "      <td>BURGLARY</td>\n",
       "      <td>BURGLARY BUSINESS/ FORCED</td>\n",
       "      <td>8500 BLOCK GUNN HW</td>\n",
       "      <td>33556</td>\n",
       "      <td>2016</td>\n",
       "    </tr>\n",
       "    <tr>\n",
       "      <th>4</th>\n",
       "      <td>8</td>\n",
       "      <td>1/12/2016</td>\n",
       "      <td>2016-28675</td>\n",
       "      <td>BATTERY</td>\n",
       "      <td>BATTERY-SIMPLE</td>\n",
       "      <td>12700 BLOCK SILVER DOLLAR DR</td>\n",
       "      <td>33556</td>\n",
       "      <td>2016</td>\n",
       "    </tr>\n",
       "  </tbody>\n",
       "</table>\n",
       "</div>"
      ],
      "text/plain": [
       "   Unnamed: 0 Reported Date            Case Number Crime Type  \\\n",
       "0           0      1/1/2016  2016-1126                BATTERY   \n",
       "1           1      1/4/2016  2016-7193                  THEFT   \n",
       "2           3      1/8/2016  2016-17773              MISCHIEF   \n",
       "3           7     1/11/2016  2016-24062              BURGLARY   \n",
       "4           8     1/12/2016  2016-28675               BATTERY   \n",
       "\n",
       "            Crime Type Extension                        Address    zip  year  \n",
       "0                 BATTERY-SIMPLE         17900 BLOCK CRAWLEY RD  33556  2016  \n",
       "1      THEFT MOTOR VEHICLE PARTS  11900 BLOCK TARPON SPRINGS RD  33556  2016  \n",
       "2  CRIMINAL MISCHIEF MISDEMEANOR           15700 BLOCK BEREA DR  33556  2016  \n",
       "3      BURGLARY BUSINESS/ FORCED             8500 BLOCK GUNN HW  33556  2016  \n",
       "4                 BATTERY-SIMPLE   12700 BLOCK SILVER DOLLAR DR  33556  2016  "
      ]
     },
     "execution_count": 4,
     "metadata": {},
     "output_type": "execute_result"
    }
   ],
   "source": [
    "crime_data56.astype({'zip': 'int64'}, {'year': 'int64'}).dtypes\n",
    "crime_data56.head()"
   ]
  },
  {
   "cell_type": "code",
   "execution_count": 5,
   "metadata": {},
   "outputs": [
    {
     "data": {
      "text/html": [
       "<div>\n",
       "<style scoped>\n",
       "    .dataframe tbody tr th:only-of-type {\n",
       "        vertical-align: middle;\n",
       "    }\n",
       "\n",
       "    .dataframe tbody tr th {\n",
       "        vertical-align: top;\n",
       "    }\n",
       "\n",
       "    .dataframe thead th {\n",
       "        text-align: right;\n",
       "    }\n",
       "</style>\n",
       "<table border=\"1\" class=\"dataframe\">\n",
       "  <thead>\n",
       "    <tr style=\"text-align: right;\">\n",
       "      <th></th>\n",
       "      <th>Unnamed: 0</th>\n",
       "      <th>Unnamed: 0.1</th>\n",
       "      <th>Reported Date</th>\n",
       "      <th>Case Number</th>\n",
       "      <th>Crime Type</th>\n",
       "      <th>Crime Type Extension</th>\n",
       "      <th>Address</th>\n",
       "      <th>zip</th>\n",
       "      <th>year</th>\n",
       "    </tr>\n",
       "  </thead>\n",
       "  <tbody>\n",
       "    <tr>\n",
       "      <th>0</th>\n",
       "      <td>0</td>\n",
       "      <td>0</td>\n",
       "      <td>1/1/2016</td>\n",
       "      <td>2016-281</td>\n",
       "      <td>DUI</td>\n",
       "      <td>DUI (DRIVING UNDER INFLUENCE)</td>\n",
       "      <td>FLORIDA AV N / WINDWOOD OAKS DR</td>\n",
       "      <td>33613</td>\n",
       "      <td>2016</td>\n",
       "    </tr>\n",
       "    <tr>\n",
       "      <th>1</th>\n",
       "      <td>1</td>\n",
       "      <td>6</td>\n",
       "      <td>1/1/2016</td>\n",
       "      <td>2016-60</td>\n",
       "      <td>BATTERY</td>\n",
       "      <td>BATTERY-SIMPLE</td>\n",
       "      <td>13600 BLOCK GRAGSTON CR</td>\n",
       "      <td>33613</td>\n",
       "      <td>2016</td>\n",
       "    </tr>\n",
       "    <tr>\n",
       "      <th>2</th>\n",
       "      <td>2</td>\n",
       "      <td>7</td>\n",
       "      <td>1/2/2016</td>\n",
       "      <td>2016-2990</td>\n",
       "      <td>BURGLARY</td>\n",
       "      <td>THEFT FROM A VEHICLE</td>\n",
       "      <td>4000 BLOCK DREAM OAK PL</td>\n",
       "      <td>33613</td>\n",
       "      <td>2016</td>\n",
       "    </tr>\n",
       "    <tr>\n",
       "      <th>3</th>\n",
       "      <td>3</td>\n",
       "      <td>9</td>\n",
       "      <td>1/2/2016</td>\n",
       "      <td>2016-3345</td>\n",
       "      <td>THEFT</td>\n",
       "      <td>THEFT FROM A BUILDING</td>\n",
       "      <td>13700 BLOCK 42ND ST N</td>\n",
       "      <td>33613</td>\n",
       "      <td>2016</td>\n",
       "    </tr>\n",
       "    <tr>\n",
       "      <th>4</th>\n",
       "      <td>4</td>\n",
       "      <td>10</td>\n",
       "      <td>1/2/2016</td>\n",
       "      <td>2016-3552</td>\n",
       "      <td>BATTERY</td>\n",
       "      <td>BATTERY-SIMPLE</td>\n",
       "      <td>14200 BLOCK NEBRASKA AV N</td>\n",
       "      <td>33613</td>\n",
       "      <td>2016</td>\n",
       "    </tr>\n",
       "  </tbody>\n",
       "</table>\n",
       "</div>"
      ],
      "text/plain": [
       "   Unnamed: 0  Unnamed: 0.1 Reported Date            Case Number Crime Type  \\\n",
       "0           0             0      1/1/2016  2016-281                     DUI   \n",
       "1           1             6      1/1/2016  2016-60                  BATTERY   \n",
       "2           2             7      1/2/2016  2016-2990               BURGLARY   \n",
       "3           3             9      1/2/2016  2016-3345                  THEFT   \n",
       "4           4            10      1/2/2016  2016-3552                BATTERY   \n",
       "\n",
       "            Crime Type Extension                          Address    zip  year  \n",
       "0  DUI (DRIVING UNDER INFLUENCE)  FLORIDA AV N / WINDWOOD OAKS DR  33613  2016  \n",
       "1                 BATTERY-SIMPLE          13600 BLOCK GRAGSTON CR  33613  2016  \n",
       "2           THEFT FROM A VEHICLE          4000 BLOCK DREAM OAK PL  33613  2016  \n",
       "3          THEFT FROM A BUILDING            13700 BLOCK 42ND ST N  33613  2016  \n",
       "4                 BATTERY-SIMPLE        14200 BLOCK NEBRASKA AV N  33613  2016  "
      ]
     },
     "execution_count": 5,
     "metadata": {},
     "output_type": "execute_result"
    }
   ],
   "source": [
    "crime_datacomb.astype({'zip': 'int64'}, {'year': 'int64'}).dtypes\n",
    "crime_datacomb.head()"
   ]
  },
  {
   "cell_type": "code",
   "execution_count": 6,
   "metadata": {},
   "outputs": [
    {
     "data": {
      "image/png": "[encoded data removed]",
      "text/plain": [
       "<Figure size 432x288 with 1 Axes>"
      ]
     },
     "metadata": {
      "needs_background": "light"
     },
     "output_type": "display_data"
    }
   ],
   "source": [
    "df13=crime_data13.groupby(crime_data13.year).count()[\"Crime Type\"]\n",
    "ax = df13.plot.bar(x='year', rot=0)\n"
   ]
  },
  {
   "cell_type": "code",
   "execution_count": 7,
   "metadata": {},
   "outputs": [
    {
     "data": {
      "image/png": "[encoded data removed]",
      "text/plain": [
       "<Figure size 432x288 with 1 Axes>"
      ]
     },
     "metadata": {
      "needs_background": "light"
     },
     "output_type": "display_data"
    }
   ],
   "source": [
    "df56=crime_data56.groupby(crime_data56.year).count()[\"Crime Type\"]\n",
    "ax = df56.plot.bar(x='year', rot=0)"
   ]
  },
  {
   "cell_type": "code",
   "execution_count": 23,
   "metadata": {},
   "outputs": [
    {
     "data": {
      "image/png": "[encoded data removed]",
      "text/plain": [
       "<Figure size 432x288 with 1 Axes>"
      ]
     },
     "metadata": {},
     "output_type": "display_data"
    }
   ],
   "source": [
    "dfcomb=crime_datacomb.groupby(crime_datacomb.zip).count()[\"Crime Type\"]\n",
    "ax = dfcomb.plot.pie(x='year', rot=0)"
   ]
  },
  {
   "cell_type": "code",
   "execution_count": 26,
   "metadata": {},
   "outputs": [
    {
     "data": {
      "image/png": "[encoded data removed]",
      "text/plain": [
       "<Figure size 432x288 with 1 Axes>"
      ]
     },
     "metadata": {
      "needs_background": "light"
     },
     "output_type": "display_data"
    }
   ],
   "source": [
    "dfcomb=crime_datacomb.groupby(crime_datacomb.zip).count()[\"Crime Type\"]\n",
    "ax = dfcomb.plot.bar(x='year', rot=0)"
   ]
  },
  {
   "cell_type": "code",
   "execution_count": null,
   "metadata": {},
   "outputs": [],
   "source": []
  }
 ],
 "metadata": {
  "kernelspec": {
   "display_name": "Python 3",
   "language": "python",
   "name": "python3"
  },
  "language_info": {
   "codemirror_mode": {
    "name": "ipython",
    "version": 3
   },
   "file_extension": ".py",
   "mimetype": "text/x-python",
   "name": "python",
   "nbconvert_exporter": "python",
   "pygments_lexer": "ipython3",
   "version": "3.6.10"
  }
 },
 "nbformat": 4,
 "nbformat_minor": 2
}
